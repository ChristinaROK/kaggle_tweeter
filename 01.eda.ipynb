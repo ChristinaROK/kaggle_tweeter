{
 "cells": [
  {
   "cell_type": "code",
   "execution_count": 2,
   "metadata": {},
   "outputs": [],
   "source": [
    "%matplotlib inline\n",
    "import pandas as pd\n",
    "import numpy as np \n",
    "import matplotlib.pyplot as plt"
   ]
  },
  {
   "cell_type": "code",
   "execution_count": 3,
   "metadata": {},
   "outputs": [],
   "source": [
    "def read_train():\n",
    "    train = pd.read_csv('train.csv')\n",
    "    train['text'] = train['text'].astype(str)\n",
    "    train['selected_text'] = train['selected_text'].astype(str)\n",
    "    return train\n",
    "def read_test():\n",
    "    test = pd.read_csv('test.csv')\n",
    "    test['text'] = test['text'].astype(str)\n",
    "    return test\n",
    "\n",
    "df_train = read_train()\n",
    "df_test = read_test()"
   ]
  },
  {
   "cell_type": "code",
   "execution_count": 11,
   "metadata": {},
   "outputs": [
    {
     "name": "stdout",
     "output_type": "stream",
     "text": [
      "train shape : (27481, 4), test shape : (3534, 3)\n"
     ]
    }
   ],
   "source": [
    "print(\"train shape : {}, test shape : {}\".format(df_train.shape, df_test.shape))"
   ]
  },
  {
   "cell_type": "code",
   "execution_count": 5,
   "metadata": {},
   "outputs": [
    {
     "data": {
      "text/html": [
       "<div>\n",
       "<style scoped>\n",
       "    .dataframe tbody tr th:only-of-type {\n",
       "        vertical-align: middle;\n",
       "    }\n",
       "\n",
       "    .dataframe tbody tr th {\n",
       "        vertical-align: top;\n",
       "    }\n",
       "\n",
       "    .dataframe thead th {\n",
       "        text-align: right;\n",
       "    }\n",
       "</style>\n",
       "<table border=\"1\" class=\"dataframe\">\n",
       "  <thead>\n",
       "    <tr style=\"text-align: right;\">\n",
       "      <th></th>\n",
       "      <th>textID</th>\n",
       "      <th>text</th>\n",
       "      <th>selected_text</th>\n",
       "      <th>sentiment</th>\n",
       "    </tr>\n",
       "  </thead>\n",
       "  <tbody>\n",
       "    <tr>\n",
       "      <th>0</th>\n",
       "      <td>cb774db0d1</td>\n",
       "      <td>I`d have responded, if I were going</td>\n",
       "      <td>I`d have responded, if I were going</td>\n",
       "      <td>neutral</td>\n",
       "    </tr>\n",
       "    <tr>\n",
       "      <th>1</th>\n",
       "      <td>549e992a42</td>\n",
       "      <td>Sooo SAD I will miss you here in San Diego!!!</td>\n",
       "      <td>Sooo SAD</td>\n",
       "      <td>negative</td>\n",
       "    </tr>\n",
       "    <tr>\n",
       "      <th>2</th>\n",
       "      <td>088c60f138</td>\n",
       "      <td>my boss is bullying me...</td>\n",
       "      <td>bullying me</td>\n",
       "      <td>negative</td>\n",
       "    </tr>\n",
       "    <tr>\n",
       "      <th>3</th>\n",
       "      <td>9642c003ef</td>\n",
       "      <td>what interview! leave me alone</td>\n",
       "      <td>leave me alone</td>\n",
       "      <td>negative</td>\n",
       "    </tr>\n",
       "    <tr>\n",
       "      <th>4</th>\n",
       "      <td>358bd9e861</td>\n",
       "      <td>Sons of ****, why couldn`t they put them on t...</td>\n",
       "      <td>Sons of ****,</td>\n",
       "      <td>negative</td>\n",
       "    </tr>\n",
       "  </tbody>\n",
       "</table>\n",
       "</div>"
      ],
      "text/plain": [
       "       textID                                               text  \\\n",
       "0  cb774db0d1                I`d have responded, if I were going   \n",
       "1  549e992a42      Sooo SAD I will miss you here in San Diego!!!   \n",
       "2  088c60f138                          my boss is bullying me...   \n",
       "3  9642c003ef                     what interview! leave me alone   \n",
       "4  358bd9e861   Sons of ****, why couldn`t they put them on t...   \n",
       "\n",
       "                         selected_text sentiment  \n",
       "0  I`d have responded, if I were going   neutral  \n",
       "1                             Sooo SAD  negative  \n",
       "2                          bullying me  negative  \n",
       "3                       leave me alone  negative  \n",
       "4                        Sons of ****,  negative  "
      ]
     },
     "execution_count": 5,
     "metadata": {},
     "output_type": "execute_result"
    }
   ],
   "source": [
    "df_train.head()"
   ]
  },
  {
   "cell_type": "code",
   "execution_count": 12,
   "metadata": {},
   "outputs": [
    {
     "data": {
      "text/html": [
       "<div>\n",
       "<style scoped>\n",
       "    .dataframe tbody tr th:only-of-type {\n",
       "        vertical-align: middle;\n",
       "    }\n",
       "\n",
       "    .dataframe tbody tr th {\n",
       "        vertical-align: top;\n",
       "    }\n",
       "\n",
       "    .dataframe thead th {\n",
       "        text-align: right;\n",
       "    }\n",
       "</style>\n",
       "<table border=\"1\" class=\"dataframe\">\n",
       "  <thead>\n",
       "    <tr style=\"text-align: right;\">\n",
       "      <th></th>\n",
       "      <th>textID</th>\n",
       "      <th>text</th>\n",
       "      <th>sentiment</th>\n",
       "    </tr>\n",
       "  </thead>\n",
       "  <tbody>\n",
       "    <tr>\n",
       "      <th>0</th>\n",
       "      <td>f87dea47db</td>\n",
       "      <td>Last session of the day  http://twitpic.com/67ezh</td>\n",
       "      <td>neutral</td>\n",
       "    </tr>\n",
       "    <tr>\n",
       "      <th>1</th>\n",
       "      <td>96d74cb729</td>\n",
       "      <td>Shanghai is also really exciting (precisely -...</td>\n",
       "      <td>positive</td>\n",
       "    </tr>\n",
       "    <tr>\n",
       "      <th>2</th>\n",
       "      <td>eee518ae67</td>\n",
       "      <td>Recession hit Veronique Branquinho, she has to...</td>\n",
       "      <td>negative</td>\n",
       "    </tr>\n",
       "    <tr>\n",
       "      <th>3</th>\n",
       "      <td>01082688c6</td>\n",
       "      <td>happy bday!</td>\n",
       "      <td>positive</td>\n",
       "    </tr>\n",
       "    <tr>\n",
       "      <th>4</th>\n",
       "      <td>33987a8ee5</td>\n",
       "      <td>http://twitpic.com/4w75p - I like it!!</td>\n",
       "      <td>positive</td>\n",
       "    </tr>\n",
       "  </tbody>\n",
       "</table>\n",
       "</div>"
      ],
      "text/plain": [
       "       textID                                               text sentiment\n",
       "0  f87dea47db  Last session of the day  http://twitpic.com/67ezh   neutral\n",
       "1  96d74cb729   Shanghai is also really exciting (precisely -...  positive\n",
       "2  eee518ae67  Recession hit Veronique Branquinho, she has to...  negative\n",
       "3  01082688c6                                        happy bday!  positive\n",
       "4  33987a8ee5             http://twitpic.com/4w75p - I like it!!  positive"
      ]
     },
     "execution_count": 12,
     "metadata": {},
     "output_type": "execute_result"
    }
   ],
   "source": [
    "df_test.head()"
   ]
  },
  {
   "cell_type": "markdown",
   "metadata": {},
   "source": [
    "# 01. EDA"
   ]
  },
  {
   "cell_type": "code",
   "execution_count": 34,
   "metadata": {},
   "outputs": [
    {
     "name": "stdout",
     "output_type": "stream",
     "text": [
      "<class 'pandas.core.frame.DataFrame'>\n",
      "RangeIndex: 27481 entries, 0 to 27480\n",
      "Data columns (total 6 columns):\n",
      " #   Column            Non-Null Count  Dtype \n",
      "---  ------            --------------  ----- \n",
      " 0   textID            27481 non-null  object\n",
      " 1   text              27480 non-null  object\n",
      " 2   selected_text     27480 non-null  object\n",
      " 3   sentiment         27481 non-null  object\n",
      " 4   text_wc           27481 non-null  int64 \n",
      " 5   selected_text_wc  27481 non-null  int64 \n",
      "dtypes: int64(2), object(4)\n",
      "memory usage: 1.3+ MB\n"
     ]
    }
   ],
   "source": [
    "df_train.info()"
   ]
  },
  {
   "cell_type": "markdown",
   "metadata": {},
   "source": [
    "### word count (df_train)"
   ]
  },
  {
   "cell_type": "code",
   "execution_count": 31,
   "metadata": {},
   "outputs": [],
   "source": [
    "df_train['text_wc'] = df_train.apply(lambda x : len(str(x['text']).split()), axis = 1)\n",
    "df_train['selected_text_wc'] = df_train.apply(lambda x : len(str(x['selected_text']).split()), axis = 1)"
   ]
  },
  {
   "cell_type": "code",
   "execution_count": 43,
   "metadata": {},
   "outputs": [
    {
     "data": {
      "text/html": [
       "<div>\n",
       "<style scoped>\n",
       "    .dataframe tbody tr th:only-of-type {\n",
       "        vertical-align: middle;\n",
       "    }\n",
       "\n",
       "    .dataframe tbody tr th {\n",
       "        vertical-align: top;\n",
       "    }\n",
       "\n",
       "    .dataframe thead th {\n",
       "        text-align: right;\n",
       "    }\n",
       "</style>\n",
       "<table border=\"1\" class=\"dataframe\">\n",
       "  <thead>\n",
       "    <tr style=\"text-align: right;\">\n",
       "      <th></th>\n",
       "      <th>textID</th>\n",
       "      <th>text</th>\n",
       "      <th>selected_text</th>\n",
       "      <th>sentiment</th>\n",
       "      <th>text_wc</th>\n",
       "      <th>selected_text_wc</th>\n",
       "    </tr>\n",
       "  </thead>\n",
       "  <tbody>\n",
       "    <tr>\n",
       "      <th>0</th>\n",
       "      <td>cb774db0d1</td>\n",
       "      <td>I`d have responded, if I were going</td>\n",
       "      <td>I`d have responded, if I were going</td>\n",
       "      <td>neutral</td>\n",
       "      <td>7</td>\n",
       "      <td>7</td>\n",
       "    </tr>\n",
       "    <tr>\n",
       "      <th>1</th>\n",
       "      <td>549e992a42</td>\n",
       "      <td>Sooo SAD I will miss you here in San Diego!!!</td>\n",
       "      <td>Sooo SAD</td>\n",
       "      <td>negative</td>\n",
       "      <td>10</td>\n",
       "      <td>2</td>\n",
       "    </tr>\n",
       "    <tr>\n",
       "      <th>2</th>\n",
       "      <td>088c60f138</td>\n",
       "      <td>my boss is bullying me...</td>\n",
       "      <td>bullying me</td>\n",
       "      <td>negative</td>\n",
       "      <td>5</td>\n",
       "      <td>2</td>\n",
       "    </tr>\n",
       "    <tr>\n",
       "      <th>3</th>\n",
       "      <td>9642c003ef</td>\n",
       "      <td>what interview! leave me alone</td>\n",
       "      <td>leave me alone</td>\n",
       "      <td>negative</td>\n",
       "      <td>5</td>\n",
       "      <td>3</td>\n",
       "    </tr>\n",
       "    <tr>\n",
       "      <th>4</th>\n",
       "      <td>358bd9e861</td>\n",
       "      <td>Sons of ****, why couldn`t they put them on t...</td>\n",
       "      <td>Sons of ****,</td>\n",
       "      <td>negative</td>\n",
       "      <td>14</td>\n",
       "      <td>3</td>\n",
       "    </tr>\n",
       "  </tbody>\n",
       "</table>\n",
       "</div>"
      ],
      "text/plain": [
       "       textID                                               text  \\\n",
       "0  cb774db0d1                I`d have responded, if I were going   \n",
       "1  549e992a42      Sooo SAD I will miss you here in San Diego!!!   \n",
       "2  088c60f138                          my boss is bullying me...   \n",
       "3  9642c003ef                     what interview! leave me alone   \n",
       "4  358bd9e861   Sons of ****, why couldn`t they put them on t...   \n",
       "\n",
       "                         selected_text sentiment  text_wc  selected_text_wc  \n",
       "0  I`d have responded, if I were going   neutral        7                 7  \n",
       "1                             Sooo SAD  negative       10                 2  \n",
       "2                          bullying me  negative        5                 2  \n",
       "3                       leave me alone  negative        5                 3  \n",
       "4                        Sons of ****,  negative       14                 3  "
      ]
     },
     "execution_count": 43,
     "metadata": {},
     "output_type": "execute_result"
    }
   ],
   "source": [
    "df_train.head()"
   ]
  },
  {
   "cell_type": "code",
   "execution_count": 53,
   "metadata": {},
   "outputs": [
    {
     "data": {
      "image/png": "[encoded data removed]",
      "text/plain": [
       "<Figure size 432x288 with 1 Axes>"
      ]
     },
     "metadata": {
      "needs_background": "light"
     },
     "output_type": "display_data"
    }
   ],
   "source": [
    "plt.hist(df_train['text_wc'], bins = 50)\n",
    "plt.title('text word count')\n",
    "plt.show()"
   ]
  },
  {
   "cell_type": "code",
   "execution_count": 54,
   "metadata": {},
   "outputs": [
    {
     "data": {
      "image/png": "[encoded data removed]",
      "text/plain": [
       "<Figure size 432x288 with 1 Axes>"
      ]
     },
     "metadata": {
      "needs_background": "light"
     },
     "output_type": "display_data"
    }
   ],
   "source": [
    "plt.hist(df_train['selected_text_wc'], bins = 50)\n",
    "plt.title('selected text word count')\n",
    "plt.show()"
   ]
  },
  {
   "cell_type": "code",
   "execution_count": 62,
   "metadata": {},
   "outputs": [
    {
     "data": {
      "image/png": "[encoded data removed]",
      "text/plain": [
       "<Figure size 720x360 with 1 Axes>"
      ]
     },
     "metadata": {
      "needs_background": "light"
     },
     "output_type": "display_data"
    }
   ],
   "source": [
    "plt.figure(figsize=(10,5))\n",
    "df_train.boxplot(column=['text_wc', 'selected_text_wc'])\n",
    "plt.title('text VS selected text (word count)')\n",
    "plt.show()"
   ]
  },
  {
   "cell_type": "markdown",
   "metadata": {},
   "source": [
    "### label"
   ]
  },
  {
   "cell_type": "code",
   "execution_count": 71,
   "metadata": {},
   "outputs": [
    {
     "name": "stdout",
     "output_type": "stream",
     "text": [
      "neutral     11118\n",
      "positive     8582\n",
      "negative     7781\n",
      "Name: sentiment, dtype: int64\n"
     ]
    },
    {
     "data": {
      "image/png": "[encoded data removed]",
      "text/plain": [
       "<Figure size 432x288 with 1 Axes>"
      ]
     },
     "metadata": {
      "needs_background": "light"
     },
     "output_type": "display_data"
    }
   ],
   "source": [
    "print(df_train['sentiment'].value_counts())\n",
    "plt.hist(df_train['sentiment'])\n",
    "plt.title('train label distribution')\n",
    "plt.show()"
   ]
  },
  {
   "cell_type": "code",
   "execution_count": 69,
   "metadata": {},
   "outputs": [
    {
     "name": "stdout",
     "output_type": "stream",
     "text": [
      "neutral     1430\n",
      "positive    1103\n",
      "negative    1001\n",
      "Name: sentiment, dtype: int64\n"
     ]
    },
    {
     "data": {
      "image/png": "[encoded data removed]",
      "text/plain": [
       "<Figure size 432x288 with 1 Axes>"
      ]
     },
     "metadata": {
      "needs_background": "light"
     },
     "output_type": "display_data"
    }
   ],
   "source": [
    "print(df_test['sentiment'].value_counts())\n",
    "plt.hist(df_test['sentiment'])\n",
    "plt.title('test label distribution')\n",
    "plt.show()"
   ]
  },
  {
   "cell_type": "code",
   "execution_count": 88,
   "metadata": {},
   "outputs": [
    {
     "name": "stdout",
     "output_type": "stream",
     "text": [
      "sentiment\n",
      "negative    13.473204\n",
      "neutral     12.342867\n",
      "positive    13.109881\n",
      "Name: text_wc, dtype: float64\n"
     ]
    },
    {
     "data": {
      "image/png": "[encoded data removed]",
      "text/plain": [
       "<Figure size 432x288 with 1 Axes>"
      ]
     },
     "metadata": {
      "needs_background": "light"
     },
     "output_type": "display_data"
    }
   ],
   "source": [
    "print(df_train.groupby('sentiment')['text_wc'].mean())\n",
    "df_train.groupby('sentiment')['text_wc'].apply(lambda x : plt.hist(x, histtype = 'step', label = '{}'.format(x.mean())))\n",
    "plt.title('word count by label')\n",
    "plt.legend()\n",
    "plt.show()"
   ]
  },
  {
   "cell_type": "code",
   "execution_count": 100,
   "metadata": {},
   "outputs": [
    {
     "name": "stdout",
     "output_type": "stream",
     "text": [
      "sentiment\n",
      "negative     3.957975\n",
      "neutral     12.068538\n",
      "positive     3.519343\n",
      "Name: selected_text_wc, dtype: float64\n"
     ]
    },
    {
     "data": {
      "image/png": "[encoded data removed]",
      "text/plain": [
       "<Figure size 432x288 with 1 Axes>"
      ]
     },
     "metadata": {
      "needs_background": "light"
     },
     "output_type": "display_data"
    }
   ],
   "source": [
    "print(df_train.groupby('sentiment')['selected_text_wc'].mean())\n",
    "df_train.groupby('sentiment')['selected_text_wc'].apply(lambda x : plt.hist(x, histtype = 'step', label = '{}'.format(x.mean())))\n",
    "plt.title('selected word count by label')\n",
    "plt.legend()\n",
    "plt.show()"
   ]
  },
  {
   "cell_type": "markdown",
   "metadata": {},
   "source": [
    "- `positive`: 정답에 단문이 차지하는 비중이 많다. \n",
    "- `neutral`: 정답이 긴 경우도 많다."
   ]
  },
  {
   "cell_type": "markdown",
   "metadata": {},
   "source": [
    "### most frequent word by label"
   ]
  },
  {
   "cell_type": "markdown",
   "metadata": {},
   "source": [
    "- `_word` : 공백 기준 split \n",
    "- `_token` : word piece tokenizer 사용 (stopword 많이 나오긴 한다.)\n",
    "\n",
    "> kernel에서는 stopword 제외하고 content word만 가지고 빈도 구했는데 나는 stopword도 포함함."
   ]
  },
  {
   "cell_type": "code",
   "execution_count": 7,
   "metadata": {},
   "outputs": [],
   "source": [
    "import tokenizers\n",
    "from collections import Counter\n",
    "tokenizer = tokenizers.BertWordPieceTokenizer(\"./bert/vocab.txt\", lowercase = True)"
   ]
  },
  {
   "cell_type": "markdown",
   "metadata": {},
   "source": [
    "`positive`"
   ]
  },
  {
   "cell_type": "code",
   "execution_count": 34,
   "metadata": {
    "scrolled": true
   },
   "outputs": [],
   "source": [
    "pos_selected_word = df_train.loc[df_train.sentiment == 'positive']['selected_text'].apply(lambda x : str(x).split()).sum()\n",
    "pos_selected_token = df_train.loc[df_train.sentiment == 'positive']['selected_text'].apply(lambda x : tokenizer.encode(str(x)).tokens[1:-1]).sum()\n",
    "\n",
    "pw = Counter(pos_selected_word)\n",
    "pt = Counter(pos_selected_token)"
   ]
  },
  {
   "cell_type": "code",
   "execution_count": 37,
   "metadata": {},
   "outputs": [
    {
     "name": "stdout",
     "output_type": "stream",
     "text": [
      "[('I', 684), ('to', 594), ('a', 572), ('love', 556), ('good', 539), ('the', 522), ('you', 461), ('Happy', 371), ('i', 348), ('for', 276), ('my', 268), ('happy', 264), ('is', 260), ('great', 258), ('and', 247), ('it', 243), ('so', 227), ('day', 208), ('of', 205), ('fun', 197), ('nice', 192), ('thanks', 185), ('be', 176), ('was', 170), ('hope', 165), ('Good', 165), ('like', 158), ('Thanks', 153), ('with', 142), ('all', 141)]\n"
     ]
    }
   ],
   "source": [
    "print(pw.most_common(30))"
   ]
  },
  {
   "cell_type": "code",
   "execution_count": 38,
   "metadata": {},
   "outputs": [
    {
     "name": "stdout",
     "output_type": "stream",
     "text": [
      "[('.', 2255), ('!', 2159), ('i', 1224), ('`', 883), ('good', 849), ('happy', 735), ('love', 726), ('you', 714), (',', 658), ('to', 609), ('a', 595), ('the', 574), ('s', 490), ('day', 476), ('it', 448), ('thanks', 445), ('great', 366), ('fun', 305), ('my', 290), ('for', 288), ('*', 282), ('is', 275), ('nice', 274), ('so', 271), ('and', 270), ('hope', 248), ('awesome', 247), ('that', 237), ('##y', 221), ('t', 211)]\n"
     ]
    }
   ],
   "source": [
    "print(pt.most_common(30))"
   ]
  },
  {
   "cell_type": "markdown",
   "metadata": {},
   "source": [
    "`negative`"
   ]
  },
  {
   "cell_type": "code",
   "execution_count": 41,
   "metadata": {},
   "outputs": [],
   "source": [
    "neg_selected_word = df_train.loc[df_train.sentiment == 'negative']['selected_text'].apply(lambda x : str(x).split()).sum()\n",
    "neg_selected_token = df_train.loc[df_train.sentiment == 'negative']['selected_text'].apply(lambda x : tokenizer.encode(str(x)).tokens[1:-1]).sum()\n",
    "\n",
    "nw = Counter(neg_selected_word)\n",
    "nt = Counter(neg_selected_token)"
   ]
  },
  {
   "cell_type": "code",
   "execution_count": 43,
   "metadata": {},
   "outputs": [
    {
     "name": "stdout",
     "output_type": "stream",
     "text": [
      "[('I', 854), ('to', 583), ('the', 508), ('my', 463), ('i', 462), ('a', 457), ('is', 347), ('miss', 337), ('not', 334), ('so', 296), ('me', 255), ('in', 245), ('I`m', 243), ('and', 237), ('it', 235), ('****', 231), ('sad', 224), ('of', 209), ('you', 200), ('hate', 199), ('that', 194), ('bad', 192), ('sorry', 181), ('for', 160), ('have', 160), ('like', 155), ('don`t', 152), ('feel', 149), ('no', 143), ('be', 140)]\n"
     ]
    }
   ],
   "source": [
    "print(nw.most_common(30))"
   ]
  },
  {
   "cell_type": "code",
   "execution_count": 44,
   "metadata": {},
   "outputs": [
    {
     "name": "stdout",
     "output_type": "stream",
     "text": [
      "[('.', 3118), ('i', 1742), ('*', 1343), ('!', 1282), ('`', 1253), ('t', 626), ('to', 596), (',', 591), ('the', 547), ('my', 529), ('a', 475), ('it', 440), ('not', 409), ('so', 381), ('is', 378), ('miss', 368), ('m', 367), ('sad', 366), ('me', 329), ('sorry', 301), ('that', 300), ('s', 271), ('in', 269), ('you', 265), ('and', 259), ('no', 255), ('bad', 252), ('can', 238), ('##t', 235), ('hate', 234)]\n"
     ]
    }
   ],
   "source": [
    "print(nt.most_common(30))"
   ]
  },
  {
   "cell_type": "markdown",
   "metadata": {},
   "source": [
    "`neutral`"
   ]
  },
  {
   "cell_type": "code",
   "execution_count": 48,
   "metadata": {},
   "outputs": [],
   "source": [
    "neu_selected_word = df_train.loc[df_train.sentiment == 'neutral']['selected_text'].apply(lambda x : str(x).split()).sum()\n",
    "neu_selected_token = df_train.loc[df_train.sentiment == 'neutral']['selected_text'].apply(lambda x : tokenizer.encode(str(x)).tokens[1:-1]).sum()\n",
    "\n",
    "nnw = Counter(neu_selected_word)\n",
    "nnt = Counter(neu_selected_token)"
   ]
  },
  {
   "cell_type": "code",
   "execution_count": 50,
   "metadata": {},
   "outputs": [
    {
     "name": "stdout",
     "output_type": "stream",
     "text": [
      "[('to', 4013), ('I', 3304), ('the', 3273), ('a', 2398), ('my', 1772), ('and', 1680), ('i', 1488), ('in', 1480), ('you', 1411), ('for', 1385), ('is', 1337), ('of', 1197), ('it', 1158), ('on', 1139), ('have', 926), ('but', 890), ('me', 821), ('with', 785), ('that', 766), ('at', 737), ('be', 731), ('just', 688), ('so', 642), ('was', 617), ('not', 616), ('I`m', 588), ('get', 587), ('out', 510), ('go', 493), ('up', 493)]\n"
     ]
    }
   ],
   "source": [
    "print(nnw.most_common(30))"
   ]
  },
  {
   "cell_type": "code",
   "execution_count": 51,
   "metadata": {},
   "outputs": [
    {
     "name": "stdout",
     "output_type": "stream",
     "text": [
      "[('.', 12886), ('i', 6144), ('!', 4559), ('`', 4293), ('to', 4118), ('the', 3502), (',', 3268), ('a', 2518), ('?', 2084), ('my', 2011), ('it', 2007), ('you', 1932), ('and', 1842), ('in', 1601), ('t', 1568), ('is', 1488), ('for', 1415), ('/', 1356), ('s', 1322), ('*', 1281), ('on', 1271), ('of', 1226), ('but', 1133), ('me', 1130), ('that', 1097), ('have', 998), ('-', 981), ('##s', 922), ('just', 899), ('at', 833)]\n"
     ]
    }
   ],
   "source": [
    "print(nnt.most_common(30))"
   ]
  },
  {
   "cell_type": "markdown",
   "metadata": {},
   "source": [
    "### most frequent word (bi-gram and tri-gram): *`positive`를 중심으로 볼 필요가 있음. (`positive`는 짧은 단어로 뽑아지기 때문에)*"
   ]
  },
  {
   "cell_type": "code",
   "execution_count": null,
   "metadata": {},
   "outputs": [],
   "source": []
  },
  {
   "cell_type": "markdown",
   "metadata": {},
   "source": [
    "### html, url, punctuation이 'selected text'에 존재?\n",
    "ex. \\*********** -> `negative`"
   ]
  },
  {
   "cell_type": "code",
   "execution_count": null,
   "metadata": {},
   "outputs": [],
   "source": []
  },
  {
   "cell_type": "code",
   "execution_count": null,
   "metadata": {},
   "outputs": [],
   "source": []
  },
  {
   "cell_type": "markdown",
   "metadata": {},
   "source": [
    "### 남이 해논 EDA & Insights\n",
    "[kernel1](https://www.kaggle.com/doomdiskday/full-tutorial-eda-to-dnns-all-you-need)\n",
    "\n",
    "- A lot (>50%) of the selected text for the neutral post replicate exactly the text.\n",
    "- The same insight applies for all the tweets having a lenght of at most 3 words. -> *preprocessing*\n",
    "\n",
    "------"
   ]
  },
  {
   "cell_type": "markdown",
   "metadata": {},
   "source": [
    "# 02. metrics"
   ]
  },
  {
   "cell_type": "code",
   "execution_count": 91,
   "metadata": {},
   "outputs": [],
   "source": [
    "def jaccard(str1, str2): \n",
    "    a = set(str(str1).lower().split()) \n",
    "    b = set(str(str2).lower().split())\n",
    "    c = a.intersection(b)\n",
    "    return float(len(c)) / (len(a) + len(b) - len(c))"
   ]
  },
  {
   "cell_type": "code",
   "execution_count": 93,
   "metadata": {},
   "outputs": [],
   "source": [
    "df_train['score'] = df_train.apply(lambda x : jaccard(x['text'], x['selected_text']), axis = 1)"
   ]
  },
  {
   "cell_type": "code",
   "execution_count": 94,
   "metadata": {},
   "outputs": [
    {
     "data": {
      "text/html": [
       "<div>\n",
       "<style scoped>\n",
       "    .dataframe tbody tr th:only-of-type {\n",
       "        vertical-align: middle;\n",
       "    }\n",
       "\n",
       "    .dataframe tbody tr th {\n",
       "        vertical-align: top;\n",
       "    }\n",
       "\n",
       "    .dataframe thead th {\n",
       "        text-align: right;\n",
       "    }\n",
       "</style>\n",
       "<table border=\"1\" class=\"dataframe\">\n",
       "  <thead>\n",
       "    <tr style=\"text-align: right;\">\n",
       "      <th></th>\n",
       "      <th>textID</th>\n",
       "      <th>text</th>\n",
       "      <th>selected_text</th>\n",
       "      <th>sentiment</th>\n",
       "      <th>text_wc</th>\n",
       "      <th>selected_text_wc</th>\n",
       "      <th>score</th>\n",
       "    </tr>\n",
       "  </thead>\n",
       "  <tbody>\n",
       "    <tr>\n",
       "      <th>0</th>\n",
       "      <td>cb774db0d1</td>\n",
       "      <td>I`d have responded, if I were going</td>\n",
       "      <td>I`d have responded, if I were going</td>\n",
       "      <td>neutral</td>\n",
       "      <td>7</td>\n",
       "      <td>7</td>\n",
       "      <td>1.000000</td>\n",
       "    </tr>\n",
       "    <tr>\n",
       "      <th>1</th>\n",
       "      <td>549e992a42</td>\n",
       "      <td>Sooo SAD I will miss you here in San Diego!!!</td>\n",
       "      <td>Sooo SAD</td>\n",
       "      <td>negative</td>\n",
       "      <td>10</td>\n",
       "      <td>2</td>\n",
       "      <td>0.200000</td>\n",
       "    </tr>\n",
       "    <tr>\n",
       "      <th>2</th>\n",
       "      <td>088c60f138</td>\n",
       "      <td>my boss is bullying me...</td>\n",
       "      <td>bullying me</td>\n",
       "      <td>negative</td>\n",
       "      <td>5</td>\n",
       "      <td>2</td>\n",
       "      <td>0.166667</td>\n",
       "    </tr>\n",
       "    <tr>\n",
       "      <th>3</th>\n",
       "      <td>9642c003ef</td>\n",
       "      <td>what interview! leave me alone</td>\n",
       "      <td>leave me alone</td>\n",
       "      <td>negative</td>\n",
       "      <td>5</td>\n",
       "      <td>3</td>\n",
       "      <td>0.600000</td>\n",
       "    </tr>\n",
       "    <tr>\n",
       "      <th>4</th>\n",
       "      <td>358bd9e861</td>\n",
       "      <td>Sons of ****, why couldn`t they put them on t...</td>\n",
       "      <td>Sons of ****,</td>\n",
       "      <td>negative</td>\n",
       "      <td>14</td>\n",
       "      <td>3</td>\n",
       "      <td>0.214286</td>\n",
       "    </tr>\n",
       "  </tbody>\n",
       "</table>\n",
       "</div>"
      ],
      "text/plain": [
       "       textID                                               text  \\\n",
       "0  cb774db0d1                I`d have responded, if I were going   \n",
       "1  549e992a42      Sooo SAD I will miss you here in San Diego!!!   \n",
       "2  088c60f138                          my boss is bullying me...   \n",
       "3  9642c003ef                     what interview! leave me alone   \n",
       "4  358bd9e861   Sons of ****, why couldn`t they put them on t...   \n",
       "\n",
       "                         selected_text sentiment  text_wc  selected_text_wc  \\\n",
       "0  I`d have responded, if I were going   neutral        7                 7   \n",
       "1                             Sooo SAD  negative       10                 2   \n",
       "2                          bullying me  negative        5                 2   \n",
       "3                       leave me alone  negative        5                 3   \n",
       "4                        Sons of ****,  negative       14                 3   \n",
       "\n",
       "      score  \n",
       "0  1.000000  \n",
       "1  0.200000  \n",
       "2  0.166667  \n",
       "3  0.600000  \n",
       "4  0.214286  "
      ]
     },
     "execution_count": 94,
     "metadata": {},
     "output_type": "execute_result"
    }
   ],
   "source": [
    "df_train.head()"
   ]
  },
  {
   "cell_type": "code",
   "execution_count": 96,
   "metadata": {},
   "outputs": [
    {
     "data": {
      "text/html": [
       "<div>\n",
       "<style scoped>\n",
       "    .dataframe tbody tr th:only-of-type {\n",
       "        vertical-align: middle;\n",
       "    }\n",
       "\n",
       "    .dataframe tbody tr th {\n",
       "        vertical-align: top;\n",
       "    }\n",
       "\n",
       "    .dataframe thead th {\n",
       "        text-align: right;\n",
       "    }\n",
       "</style>\n",
       "<table border=\"1\" class=\"dataframe\">\n",
       "  <thead>\n",
       "    <tr style=\"text-align: right;\">\n",
       "      <th></th>\n",
       "      <th>text_wc</th>\n",
       "      <th>score</th>\n",
       "      <th>selected_text_wc</th>\n",
       "    </tr>\n",
       "  </thead>\n",
       "  <tbody>\n",
       "    <tr>\n",
       "      <th>text_wc</th>\n",
       "      <td>1.000000</td>\n",
       "      <td>-0.208826</td>\n",
       "      <td>0.449536</td>\n",
       "    </tr>\n",
       "    <tr>\n",
       "      <th>score</th>\n",
       "      <td>-0.208826</td>\n",
       "      <td>1.000000</td>\n",
       "      <td>0.678037</td>\n",
       "    </tr>\n",
       "    <tr>\n",
       "      <th>selected_text_wc</th>\n",
       "      <td>0.449536</td>\n",
       "      <td>0.678037</td>\n",
       "      <td>1.000000</td>\n",
       "    </tr>\n",
       "  </tbody>\n",
       "</table>\n",
       "</div>"
      ],
      "text/plain": [
       "                   text_wc     score  selected_text_wc\n",
       "text_wc           1.000000 -0.208826          0.449536\n",
       "score            -0.208826  1.000000          0.678037\n",
       "selected_text_wc  0.449536  0.678037          1.000000"
      ]
     },
     "execution_count": 96,
     "metadata": {},
     "output_type": "execute_result"
    }
   ],
   "source": [
    "df_train[['text_wc', 'score', 'selected_text_wc']].corr()"
   ]
  },
  {
   "cell_type": "code",
   "execution_count": 101,
   "metadata": {},
   "outputs": [
    {
     "name": "stdout",
     "output_type": "stream",
     "text": [
      "sentiment\n",
      "negative    0.338613\n",
      "neutral     0.976447\n",
      "positive    0.314372\n",
      "Name: score, dtype: float64\n"
     ]
    },
    {
     "data": {
      "image/png": "[encoded data removed]",
      "text/plain": [
       "<Figure size 432x288 with 1 Axes>"
      ]
     },
     "metadata": {
      "needs_background": "light"
     },
     "output_type": "display_data"
    }
   ],
   "source": [
    "print(df_train.groupby('sentiment')['score'].mean())\n",
    "df_train.groupby('sentiment')['score'].apply(lambda x : plt.hist(x, histtype = 'step', label = '{}'.format(x.mean())))\n",
    "plt.title('similarity btw text and selected_text by label')\n",
    "plt.legend()\n",
    "plt.show()\n"
   ]
  },
  {
   "cell_type": "markdown",
   "metadata": {},
   "source": [
    "### [text와 selected_text의 유사도]\n",
    "- `neutral`: text와 selected_text의 유사도가 매우 높다. (mean = 0.97)\n",
    "- `negative` > `positive`: 유사도 비슷 (mean: 0.33 > 0.31)\n",
    "------\n",
    "> **1. `neutral`의 정답은 거의 문장 전체인 경우가 많다. (의미 없는 tweet일 경우는 neutral 취급 -> 정답은 원문 그대로: 점수 높이기위한 post-processing trick!)** \n",
    ">\n",
    "> **2. `positive`의 정답은 단문인 경우가 많다.**"
   ]
  },
  {
   "cell_type": "code",
   "execution_count": 132,
   "metadata": {},
   "outputs": [
    {
     "name": "stdout",
     "output_type": "stream",
     "text": [
      "중립 sentiment 중 정답이 tweet 본문 그대로인 퍼센트 53.35%\n"
     ]
    }
   ],
   "source": [
    "df_neu = df_train.loc[df_train.sentiment == 'neutral']\n",
    "print(\"중립 sentiment 중 정답이 tweet 본문 그대로인 퍼센트 {:.2f}%\".format(df_neu.loc[df_neu.text == df_neu.selected_text].shape[0] / df_neu.shape[0] * 100))\n"
   ]
  },
  {
   "cell_type": "code",
   "execution_count": null,
   "metadata": {},
   "outputs": [],
   "source": []
  },
  {
   "cell_type": "markdown",
   "metadata": {},
   "source": [
    "# 03. Preprocessing"
   ]
  },
  {
   "cell_type": "markdown",
   "metadata": {},
   "source": [
    "### 03.01 Data Cleansing\n",
    "> **정답 (`selected text`가 dirty한 상태. 그래서 preprocessing 필요성이 적다. 따라서 Bert-based model 써야함.)**\n",
    "\n",
    "\n",
    "- stopwords \n",
    "- punctuations (특히 `,`, `...`, `***` 등 처리) \n",
    "- lower-casing\n",
    "- URL, HTML, emoji removing (-> **정답에 포함되는 지 안되는지 확인해볼 것!**)\n",
    "- word count threshold *(3 words?!) <- EDA 참고한 것*"
   ]
  },
  {
   "cell_type": "code",
   "execution_count": null,
   "metadata": {},
   "outputs": [],
   "source": []
  },
  {
   "cell_type": "code",
   "execution_count": null,
   "metadata": {},
   "outputs": [],
   "source": []
  },
  {
   "cell_type": "code",
   "execution_count": null,
   "metadata": {},
   "outputs": [],
   "source": []
  },
  {
   "cell_type": "markdown",
   "metadata": {},
   "source": [
    "### 03.02 Tokenization\n",
    "1. nltk tokenization\n",
    "2. word piece tokenization: lower-casing + 더 잘게 쪼갬"
   ]
  },
  {
   "cell_type": "code",
   "execution_count": 5,
   "metadata": {},
   "outputs": [],
   "source": [
    "import nltk\n",
    "from nltk.corpus import stopwords\n",
    "from nltk.tokenize import word_tokenize\n",
    "import re\n",
    "import os\n",
    "import sys\n",
    "nltk.data.path.append(os.path.abspath('../Downloads/')) # adding my own path \n",
    "# nltk.download('punkt','../Downloads/')\n"
   ]
  },
  {
   "cell_type": "code",
   "execution_count": 9,
   "metadata": {},
   "outputs": [],
   "source": [
    "tokens = pd.concat([df_train['text'].apply(lambda x : word_tokenize(x)),df_train['text'].apply(lambda x : tokenizer.encode(x).tokens[1:-1])], axis = 1)\n",
    "tokens.columns = ['nltk', 'word_piece']"
   ]
  },
  {
   "cell_type": "code",
   "execution_count": 10,
   "metadata": {},
   "outputs": [],
   "source": [
    "tokens['nltk_cnt'] = tokens.apply(lambda x : len(x['nltk']), axis = 1)\n",
    "tokens['word_piece_cnt'] = tokens.apply(lambda x : len(x['word_piece']), axis = 1)"
   ]
  },
  {
   "cell_type": "code",
   "execution_count": 106,
   "metadata": {},
   "outputs": [
    {
     "data": {
      "image/png": "[encoded data removed]",
      "text/plain": [
       "<Figure size 432x288 with 1 Axes>"
      ]
     },
     "metadata": {
      "needs_background": "light"
     },
     "output_type": "display_data"
    }
   ],
   "source": [
    "plt.hist(tokens['nltk_cnt'], histtype='step', bins = 50)\n",
    "plt.hist(tokens['word_piece_cnt'], histtype='step', bins = 50)\n",
    "plt.title('nltk token count VS word_piece token count')\n",
    "plt.show()"
   ]
  },
  {
   "cell_type": "markdown",
   "metadata": {},
   "source": [
    "- word_piece tokenizer가 더 잘게 쪼갠다. "
   ]
  },
  {
   "cell_type": "code",
   "execution_count": 11,
   "metadata": {},
   "outputs": [
    {
     "data": {
      "text/html": [
       "<div>\n",
       "<style scoped>\n",
       "    .dataframe tbody tr th:only-of-type {\n",
       "        vertical-align: middle;\n",
       "    }\n",
       "\n",
       "    .dataframe tbody tr th {\n",
       "        vertical-align: top;\n",
       "    }\n",
       "\n",
       "    .dataframe thead th {\n",
       "        text-align: right;\n",
       "    }\n",
       "</style>\n",
       "<table border=\"1\" class=\"dataframe\">\n",
       "  <thead>\n",
       "    <tr style=\"text-align: right;\">\n",
       "      <th></th>\n",
       "      <th>nltk</th>\n",
       "      <th>word_piece</th>\n",
       "      <th>nltk_cnt</th>\n",
       "      <th>word_piece_cnt</th>\n",
       "    </tr>\n",
       "  </thead>\n",
       "  <tbody>\n",
       "    <tr>\n",
       "      <th>0</th>\n",
       "      <td>[I, `, d, have, responded, ,, if, I, were, going]</td>\n",
       "      <td>[i, `, d, have, responded, ,, if, i, were, going]</td>\n",
       "      <td>10</td>\n",
       "      <td>10</td>\n",
       "    </tr>\n",
       "    <tr>\n",
       "      <th>1</th>\n",
       "      <td>[Sooo, SAD, I, will, miss, you, here, in, San,...</td>\n",
       "      <td>[soo, ##o, sad, i, will, miss, you, here, in, ...</td>\n",
       "      <td>13</td>\n",
       "      <td>14</td>\n",
       "    </tr>\n",
       "    <tr>\n",
       "      <th>2</th>\n",
       "      <td>[my, boss, is, bullying, me, ...]</td>\n",
       "      <td>[my, boss, is, bullying, me, ., ., .]</td>\n",
       "      <td>6</td>\n",
       "      <td>8</td>\n",
       "    </tr>\n",
       "    <tr>\n",
       "      <th>3</th>\n",
       "      <td>[what, interview, !, leave, me, alone]</td>\n",
       "      <td>[what, interview, !, leave, me, alone]</td>\n",
       "      <td>6</td>\n",
       "      <td>6</td>\n",
       "    </tr>\n",
       "    <tr>\n",
       "      <th>4</th>\n",
       "      <td>[Sons, of, ****, ,, why, couldn, `, t, they, p...</td>\n",
       "      <td>[sons, of, *, *, *, *, ,, why, couldn, `, t, t...</td>\n",
       "      <td>17</td>\n",
       "      <td>20</td>\n",
       "    </tr>\n",
       "    <tr>\n",
       "      <th>5</th>\n",
       "      <td>[http, :, //www.dothebouncy.com/smf, -, some, ...</td>\n",
       "      <td>[http, :, /, /, www, ., dot, ##he, ##bo, ##un,...</td>\n",
       "      <td>14</td>\n",
       "      <td>29</td>\n",
       "    </tr>\n",
       "    <tr>\n",
       "      <th>6</th>\n",
       "      <td>[2am, feedings, for, the, baby, are, fun, when...</td>\n",
       "      <td>[2a, ##m, feeding, ##s, for, the, baby, are, f...</td>\n",
       "      <td>14</td>\n",
       "      <td>17</td>\n",
       "    </tr>\n",
       "    <tr>\n",
       "      <th>7</th>\n",
       "      <td>[Soooo, high]</td>\n",
       "      <td>[soo, ##oo, high]</td>\n",
       "      <td>2</td>\n",
       "      <td>3</td>\n",
       "    </tr>\n",
       "    <tr>\n",
       "      <th>8</th>\n",
       "      <td>[Both, of, you]</td>\n",
       "      <td>[both, of, you]</td>\n",
       "      <td>3</td>\n",
       "      <td>3</td>\n",
       "    </tr>\n",
       "    <tr>\n",
       "      <th>9</th>\n",
       "      <td>[Journey, !, ?, Wow, ..., u, just, became, coo...</td>\n",
       "      <td>[journey, !, ?, wow, ., ., ., u, just, became,...</td>\n",
       "      <td>19</td>\n",
       "      <td>24</td>\n",
       "    </tr>\n",
       "    <tr>\n",
       "      <th>10</th>\n",
       "      <td>[as, much, as, i, love, to, be, hopeful, ,, i,...</td>\n",
       "      <td>[as, much, as, i, love, to, be, hopeful, ,, i,...</td>\n",
       "      <td>27</td>\n",
       "      <td>27</td>\n",
       "    </tr>\n",
       "    <tr>\n",
       "      <th>11</th>\n",
       "      <td>[I, really, really, like, the, song, Love, Sto...</td>\n",
       "      <td>[i, really, really, like, the, song, love, sto...</td>\n",
       "      <td>11</td>\n",
       "      <td>11</td>\n",
       "    </tr>\n",
       "    <tr>\n",
       "      <th>12</th>\n",
       "      <td>[My, Sharpie, is, running, DANGERously, low, o...</td>\n",
       "      <td>[my, sharp, ##ie, is, running, dangerously, lo...</td>\n",
       "      <td>8</td>\n",
       "      <td>9</td>\n",
       "    </tr>\n",
       "    <tr>\n",
       "      <th>13</th>\n",
       "      <td>[i, want, to, go, to, music, tonight, but, i, ...</td>\n",
       "      <td>[i, want, to, go, to, music, tonight, but, i, ...</td>\n",
       "      <td>13</td>\n",
       "      <td>13</td>\n",
       "    </tr>\n",
       "    <tr>\n",
       "      <th>14</th>\n",
       "      <td>[test, test, from, the, LG, enV2]</td>\n",
       "      <td>[test, test, from, the, l, ##g, en, ##v, ##2]</td>\n",
       "      <td>6</td>\n",
       "      <td>9</td>\n",
       "    </tr>\n",
       "    <tr>\n",
       "      <th>15</th>\n",
       "      <td>[Uh, oh, ,, I, am, sunburned]</td>\n",
       "      <td>[uh, oh, ,, i, am, sun, ##burn, ##ed]</td>\n",
       "      <td>6</td>\n",
       "      <td>8</td>\n",
       "    </tr>\n",
       "    <tr>\n",
       "      <th>16</th>\n",
       "      <td>[S, `, ok, ,, trying, to, plot, alternatives, ...</td>\n",
       "      <td>[s, `, ok, ,, trying, to, plot, alternatives, ...</td>\n",
       "      <td>12</td>\n",
       "      <td>14</td>\n",
       "    </tr>\n",
       "    <tr>\n",
       "      <th>17</th>\n",
       "      <td>[i, `, ve, been, sick, for, the, past, few, da...</td>\n",
       "      <td>[i, `, ve, been, sick, for, the, past, few, da...</td>\n",
       "      <td>32</td>\n",
       "      <td>49</td>\n",
       "    </tr>\n",
       "    <tr>\n",
       "      <th>18</th>\n",
       "      <td>[is, back, home, now, gon, na, miss, every, one]</td>\n",
       "      <td>[is, back, home, now, gonna, miss, every, one]</td>\n",
       "      <td>9</td>\n",
       "      <td>8</td>\n",
       "    </tr>\n",
       "    <tr>\n",
       "      <th>19</th>\n",
       "      <td>[Hes, just, not, that, into, you]</td>\n",
       "      <td>[he, ##s, just, not, that, into, you]</td>\n",
       "      <td>6</td>\n",
       "      <td>7</td>\n",
       "    </tr>\n",
       "  </tbody>\n",
       "</table>\n",
       "</div>"
      ],
      "text/plain": [
       "                                                 nltk  \\\n",
       "0   [I, `, d, have, responded, ,, if, I, were, going]   \n",
       "1   [Sooo, SAD, I, will, miss, you, here, in, San,...   \n",
       "2                   [my, boss, is, bullying, me, ...]   \n",
       "3              [what, interview, !, leave, me, alone]   \n",
       "4   [Sons, of, ****, ,, why, couldn, `, t, they, p...   \n",
       "5   [http, :, //www.dothebouncy.com/smf, -, some, ...   \n",
       "6   [2am, feedings, for, the, baby, are, fun, when...   \n",
       "7                                       [Soooo, high]   \n",
       "8                                     [Both, of, you]   \n",
       "9   [Journey, !, ?, Wow, ..., u, just, became, coo...   \n",
       "10  [as, much, as, i, love, to, be, hopeful, ,, i,...   \n",
       "11  [I, really, really, like, the, song, Love, Sto...   \n",
       "12  [My, Sharpie, is, running, DANGERously, low, o...   \n",
       "13  [i, want, to, go, to, music, tonight, but, i, ...   \n",
       "14                  [test, test, from, the, LG, enV2]   \n",
       "15                      [Uh, oh, ,, I, am, sunburned]   \n",
       "16  [S, `, ok, ,, trying, to, plot, alternatives, ...   \n",
       "17  [i, `, ve, been, sick, for, the, past, few, da...   \n",
       "18   [is, back, home, now, gon, na, miss, every, one]   \n",
       "19                  [Hes, just, not, that, into, you]   \n",
       "\n",
       "                                           word_piece  nltk_cnt  \\\n",
       "0   [i, `, d, have, responded, ,, if, i, were, going]        10   \n",
       "1   [soo, ##o, sad, i, will, miss, you, here, in, ...        13   \n",
       "2               [my, boss, is, bullying, me, ., ., .]         6   \n",
       "3              [what, interview, !, leave, me, alone]         6   \n",
       "4   [sons, of, *, *, *, *, ,, why, couldn, `, t, t...        17   \n",
       "5   [http, :, /, /, www, ., dot, ##he, ##bo, ##un,...        14   \n",
       "6   [2a, ##m, feeding, ##s, for, the, baby, are, f...        14   \n",
       "7                                   [soo, ##oo, high]         2   \n",
       "8                                     [both, of, you]         3   \n",
       "9   [journey, !, ?, wow, ., ., ., u, just, became,...        19   \n",
       "10  [as, much, as, i, love, to, be, hopeful, ,, i,...        27   \n",
       "11  [i, really, really, like, the, song, love, sto...        11   \n",
       "12  [my, sharp, ##ie, is, running, dangerously, lo...         8   \n",
       "13  [i, want, to, go, to, music, tonight, but, i, ...        13   \n",
       "14      [test, test, from, the, l, ##g, en, ##v, ##2]         6   \n",
       "15              [uh, oh, ,, i, am, sun, ##burn, ##ed]         6   \n",
       "16  [s, `, ok, ,, trying, to, plot, alternatives, ...        12   \n",
       "17  [i, `, ve, been, sick, for, the, past, few, da...        32   \n",
       "18     [is, back, home, now, gonna, miss, every, one]         9   \n",
       "19              [he, ##s, just, not, that, into, you]         6   \n",
       "\n",
       "    word_piece_cnt  \n",
       "0               10  \n",
       "1               14  \n",
       "2                8  \n",
       "3                6  \n",
       "4               20  \n",
       "5               29  \n",
       "6               17  \n",
       "7                3  \n",
       "8                3  \n",
       "9               24  \n",
       "10              27  \n",
       "11              11  \n",
       "12               9  \n",
       "13              13  \n",
       "14               9  \n",
       "15               8  \n",
       "16              14  \n",
       "17              49  \n",
       "18               8  \n",
       "19               7  "
      ]
     },
     "execution_count": 11,
     "metadata": {},
     "output_type": "execute_result"
    }
   ],
   "source": [
    "tokens.head(20)"
   ]
  },
  {
   "cell_type": "code",
   "execution_count": 113,
   "metadata": {},
   "outputs": [
    {
     "data": {
      "text/plain": [
       "textID                           bbe3cbf620\n",
       "text             test test from the LG enV2\n",
       "selected_text    test test from the LG enV2\n",
       "sentiment                           neutral\n",
       "Name: 14, dtype: object"
      ]
     },
     "execution_count": 113,
     "metadata": {},
     "output_type": "execute_result"
    }
   ],
   "source": [
    "df_train.iloc[14,:]"
   ]
  },
  {
   "cell_type": "code",
   "execution_count": 21,
   "metadata": {},
   "outputs": [
    {
     "name": "stdout",
     "output_type": "stream",
     "text": [
      "count    27481.000000\n",
      "mean        18.712893\n",
      "std         10.083452\n",
      "min          1.000000\n",
      "25%         10.000000\n",
      "50%         18.000000\n",
      "75%         26.000000\n",
      "max        108.000000\n",
      "Name: word_piece_cnt, dtype: float64\n"
     ]
    },
    {
     "data": {
      "text/html": [
       "<div>\n",
       "<style scoped>\n",
       "    .dataframe tbody tr th:only-of-type {\n",
       "        vertical-align: middle;\n",
       "    }\n",
       "\n",
       "    .dataframe tbody tr th {\n",
       "        vertical-align: top;\n",
       "    }\n",
       "\n",
       "    .dataframe thead th {\n",
       "        text-align: right;\n",
       "    }\n",
       "</style>\n",
       "<table border=\"1\" class=\"dataframe\">\n",
       "  <thead>\n",
       "    <tr style=\"text-align: right;\">\n",
       "      <th></th>\n",
       "      <th>nltk</th>\n",
       "      <th>word_piece</th>\n",
       "      <th>nltk_cnt</th>\n",
       "      <th>word_piece_cnt</th>\n",
       "    </tr>\n",
       "  </thead>\n",
       "  <tbody>\n",
       "    <tr>\n",
       "      <th>3293</th>\n",
       "      <td>[Legend, of, Inotia, ?, ?, ?, ?, ?, ?, ?, ?, ?...</td>\n",
       "      <td>[legend, of, in, ##ot, ##ia, ?, ?, ?, ?, ?, ?,...</td>\n",
       "      <td>106</td>\n",
       "      <td>108</td>\n",
       "    </tr>\n",
       "  </tbody>\n",
       "</table>\n",
       "</div>"
      ],
      "text/plain": [
       "                                                   nltk  \\\n",
       "3293  [Legend, of, Inotia, ?, ?, ?, ?, ?, ?, ?, ?, ?...   \n",
       "\n",
       "                                             word_piece  nltk_cnt  \\\n",
       "3293  [legend, of, in, ##ot, ##ia, ?, ?, ?, ?, ?, ?,...       106   \n",
       "\n",
       "      word_piece_cnt  \n",
       "3293             108  "
      ]
     },
     "execution_count": 21,
     "metadata": {},
     "output_type": "execute_result"
    }
   ],
   "source": [
    "# max seq len for tweets\n",
    "print(tokens['word_piece_cnt'].describe())\n",
    "tokens.loc[tokens['word_piece_cnt'] > 96]"
   ]
  },
  {
   "cell_type": "markdown",
   "metadata": {},
   "source": [
    "- max_len = 96 (96 넘는 데이터 1개밖에 없다. 따라서 저 한개 삭제하고 train?!)"
   ]
  },
  {
   "cell_type": "markdown",
   "metadata": {},
   "source": [
    "# 04. Conclusion\n",
    "\n",
    "- `selected_text`가 지저분(puctuation, url, 등 포함)한 것으로 보아 bert-based model 사용해야 한다. \n",
    "- `neutral`은 50% 이상이 `selected_text`와 `text`가 동일하다. 따라서 post-processing 해서 스코어 올려야 한다. "
   ]
  },
  {
   "cell_type": "code",
   "execution_count": null,
   "metadata": {},
   "outputs": [],
   "source": []
  }
 ],
 "metadata": {
  "kernelspec": {
   "display_name": "Python 3",
   "language": "python",
   "name": "python3"
  },
  "language_info": {
   "codemirror_mode": {
    "name": "ipython",
    "version": 3
   },
   "file_extension": ".py",
   "mimetype": "text/x-python",
   "name": "python",
   "nbconvert_exporter": "python",
   "pygments_lexer": "ipython3",
   "version": "3.6.9"
  }
 },
 "nbformat": 4,
 "nbformat_minor": 2
}
